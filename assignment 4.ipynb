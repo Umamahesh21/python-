{
 "cells": [
  {
   "cell_type": "markdown",
   "id": "bfb3f597",
   "metadata": {},
   "source": [
    "## Question 1.1"
   ]
  },
  {
   "cell_type": "code",
   "execution_count": 14,
   "id": "d4f5f7b2",
   "metadata": {},
   "outputs": [
    {
     "name": "stdout",
     "output_type": "stream",
     "text": [
      "a=10\n",
      "b=12\n",
      "c=14\n",
      "Area of triangle : 58.787753826796276\n"
     ]
    }
   ],
   "source": [
    "class sides:\n",
    "    def __init__(self,a, b, c):\n",
    "        self.a = a\n",
    "        self.b = b\n",
    "        self.c = c\n",
    "a= int(input(\"a=\")) \n",
    "b= int(input(\"b=\"))\n",
    "c= int(input(\"c=\"))\n",
    "       \n",
    "class A(sides):\n",
    "    def area(self):\n",
    "        s = (self.a + self.b + self.c)/2\n",
    "        return (s*(s-self.a)*(s-self.b)*(s-self.c)) ** 0.5\n",
    "obj = A(a,b,c)\n",
    "print(\"Area of triangle : {}\".format(obj.area()))"
   ]
  },
  {
   "cell_type": "markdown",
   "id": "4c357310",
   "metadata": {},
   "source": [
    "## Question 1.2"
   ]
  },
  {
   "cell_type": "code",
   "execution_count": 21,
   "id": "43a628f5",
   "metadata": {},
   "outputs": [
    {
     "name": "stdout",
     "output_type": "stream",
     "text": [
      "Enter words, separated by spaces: adfa aef erqed weqede rqdd\n",
      "Minimum length of words to keep: 3\n",
      "Words longer than 3 are adfa, erqed, weqede, rqdd.\n"
     ]
    }
   ],
   "source": [
    "def longwords(words,n):\n",
    "    return (word for word in words if len(word) > n)\n",
    "\n",
    "def main():\n",
    "    words = input(\"Enter words, separated by spaces: \").split()\n",
    "    n = int(input(\"Minimum length of words to keep: \"))\n",
    "    print(\"Words longer than {} are {}.\".format(n,\n",
    "          ', '.join(longwords(words, n))))\n",
    "\n",
    "main()"
   ]
  },
  {
   "cell_type": "markdown",
   "id": "63979a1f",
   "metadata": {},
   "source": [
    "### Question 2.1"
   ]
  },
  {
   "cell_type": "code",
   "execution_count": 23,
   "id": "9a96f0ee",
   "metadata": {},
   "outputs": [
    {
     "name": "stdout",
     "output_type": "stream",
     "text": [
      "List of Word: ab cde erty\n",
      "List of wordlength:[2, 3, 4]\n"
     ]
    }
   ],
   "source": [
    "listOfWords = input('List of Word: ').split() \n",
    "listOfInts = []\n",
    " \n",
    "for i in range(len(listOfWords)):\n",
    "    listOfInts.append(len(listOfWords[i]))\n",
    "     \n",
    "print (\"List of wordlength:\"+str(listOfInts))"
   ]
  },
  {
   "cell_type": "markdown",
   "id": "981f9af8",
   "metadata": {},
   "source": [
    "### Question 2.2\n"
   ]
  },
  {
   "cell_type": "code",
   "execution_count": 15,
   "id": "7b50862d",
   "metadata": {},
   "outputs": [
    {
     "name": "stdout",
     "output_type": "stream",
     "text": [
      "Enter the letter:e\n",
      "True\n"
     ]
    }
   ],
   "source": [
    "def vowel(x):\n",
    "    if x=='a' or x=='e' or x=='i' or x=='o' or x=='u':\n",
    "        return \"True\"\n",
    "    else:\n",
    "        return \"False\"\n",
    "a=input('Enter the letter:')\n",
    "print(vowel(a))"
   ]
  },
  {
   "cell_type": "code",
   "execution_count": null,
   "id": "3ce71f98",
   "metadata": {},
   "outputs": [],
   "source": []
  }
 ],
 "metadata": {
  "kernelspec": {
   "display_name": "Python 3 (ipykernel)",
   "language": "python",
   "name": "python3"
  },
  "language_info": {
   "codemirror_mode": {
    "name": "ipython",
    "version": 3
   },
   "file_extension": ".py",
   "mimetype": "text/x-python",
   "name": "python",
   "nbconvert_exporter": "python",
   "pygments_lexer": "ipython3",
   "version": "3.8.8"
  }
 },
 "nbformat": 4,
 "nbformat_minor": 5
}
