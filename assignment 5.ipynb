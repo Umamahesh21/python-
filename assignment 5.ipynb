{
 "cells": [
  {
   "cell_type": "markdown",
   "id": "d08fe393",
   "metadata": {},
   "source": [
    "### Question1 "
   ]
  },
  {
   "cell_type": "code",
   "execution_count": 36,
   "id": "9c4bb208",
   "metadata": {},
   "outputs": [
    {
     "name": "stdout",
     "output_type": "stream",
     "text": [
      "5\n",
      "Denominator has to be greataer than zero\n"
     ]
    }
   ],
   "source": [
    "#Write a function to compute 5/0 and use try/except to catch the exceptions\n",
    "\n",
    "def div(number):\n",
    "    number=int(input())\n",
    "    try:\n",
    "        number%0\n",
    "    except ZeroDivisionError:\n",
    "        print(\"Denominator has to be greataer than zero\")\n",
    "div('number')        "
   ]
  },
  {
   "cell_type": "markdown",
   "id": "58a74d47",
   "metadata": {},
   "source": [
    "### Question 2"
   ]
  },
  {
   "cell_type": "code",
   "execution_count": 37,
   "id": "5c6f7d89",
   "metadata": {},
   "outputs": [
    {
     "name": "stdout",
     "output_type": "stream",
     "text": [
      "Americans Plays Baseball\n",
      "Americans Plays Cricket\n",
      "Americans watch Baseball\n",
      "Americans watch Cricket\n",
      "Indians Plays Baseball\n",
      "Indians Plays Cricket\n",
      "Indians watch Baseball\n",
      "Indians watch Cricket\n"
     ]
    }
   ],
   "source": [
    "subject=['Americans','Indians']\n",
    "verb=['Plays',\"watch\"]\n",
    "object=['Baseball','Cricket']\n",
    "\n",
    "All_sentences=[(sub+\" \"+ver+\" \"+obj) for sub in subject for ver in verb for obj in object]\n",
    "for i in All_sentences:\n",
    "    print(i)"
   ]
  },
  {
   "cell_type": "code",
   "execution_count": null,
   "id": "77fdcc77",
   "metadata": {},
   "outputs": [],
   "source": [
    "*25*"
   ]
  }
 ],
 "metadata": {
  "kernelspec": {
   "display_name": "Python 3 (ipykernel)",
   "language": "python",
   "name": "python3"
  },
  "language_info": {
   "codemirror_mode": {
    "name": "ipython",
    "version": 3
   },
   "file_extension": ".py",
   "mimetype": "text/x-python",
   "name": "python",
   "nbconvert_exporter": "python",
   "pygments_lexer": "ipython3",
   "version": "3.8.8"
  }
 },
 "nbformat": 4,
 "nbformat_minor": 5
}
