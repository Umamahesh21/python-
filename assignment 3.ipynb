{
 "cells": [
  {
   "cell_type": "markdown",
   "id": "b5b95d44",
   "metadata": {},
   "source": [
    "#### Question 1"
   ]
  },
  {
   "cell_type": "code",
   "execution_count": 20,
   "id": "e9e9b027",
   "metadata": {},
   "outputs": [
    {
     "name": "stdout",
     "output_type": "stream",
     "text": [
      "25\n",
      "45\n",
      "70\n",
      "100\n"
     ]
    }
   ],
   "source": [
    "def myreduce(add,list):\n",
    "    return a\n",
    "def add(a,b):\n",
    "    return a+b\n",
    "list=[10,15,20,25,30]\n",
    "a=list[0]\n",
    "for i in range(1,len(list)):\n",
    "    b=list[i]\n",
    "    a=add(a,b)\n",
    "    print(myreduce(add,list))   "
   ]
  },
  {
   "cell_type": "markdown",
   "id": "33350db3",
   "metadata": {},
   "source": [
    "##### Question 2"
   ]
  },
  {
   "cell_type": "code",
   "execution_count": 18,
   "id": "3e404c7a",
   "metadata": {},
   "outputs": [
    {
     "name": "stdout",
     "output_type": "stream",
     "text": [
      "[12, 4, 6, 34]\n"
     ]
    }
   ],
   "source": [
    "def myfilter(is_even,list_2):\n",
    "    return is_even(a)\n",
    "list_2=[12,3,4,5,6,67,34]\n",
    "list_3=[]\n",
    "def is_even(a):\n",
    "    for i in list_2:\n",
    "        if i%2==0:\n",
    "            list_3.append(i)\n",
    "    print(list_3)\n",
    "myfilter(is_even,list_2)    "
   ]
  },
  {
   "cell_type": "markdown",
   "id": "cf766913",
   "metadata": {},
   "source": [
    "#### Question 3\n",
    "List comprehensions"
   ]
  },
  {
   "cell_type": "code",
   "execution_count": 27,
   "id": "edf7d7cc",
   "metadata": {},
   "outputs": [
    {
     "name": "stdout",
     "output_type": "stream",
     "text": [
      "['x', 'xx', 'xxx', 'xxxx', 'y', 'yy', 'yyy', 'yyyy', 'z', 'zz', 'zzz', 'zzzz']\n"
     ]
    }
   ],
   "source": [
    "list_1=['x','y','z']\n",
    "result=[item*num for item in list_1 for num in range(1,5)]\n",
    "print( str(result))        \n"
   ]
  },
  {
   "cell_type": "code",
   "execution_count": 28,
   "id": "96a73333",
   "metadata": {},
   "outputs": [
    {
     "name": "stdout",
     "output_type": "stream",
     "text": [
      "['x', 'y', 'z', 'xx', 'yy', 'zz', 'xxx', 'yyy', 'zzz', 'xxxx', 'yyyy', 'zzzz']\n"
     ]
    }
   ],
   "source": [
    "list_1=['x','y','z']\n",
    "result=[item*num  for num in range(1,5)for item in list_1]\n",
    "print( str(result))        \n"
   ]
  },
  {
   "cell_type": "code",
   "execution_count": 43,
   "id": "b24ed62a",
   "metadata": {},
   "outputs": [
    {
     "name": "stdout",
     "output_type": "stream",
     "text": [
      "[[2], [3], [4], [3], [4], [5], [4], [5], [6]][[2, 3, 4, 5], [3, 4, 5, 6], [4, 5, 6, 7], [5, 6, 7, 8]]\n"
     ]
    }
   ],
   "source": [
    "list_1=[2,3,4]\n",
    "list_2=[2,3,4,5]\n",
    "a=[[item+num] for item in list_1 for num in range(0,3)]\n",
    "b=[[item+num  for item in list_2] for num in range(0,4)]\n",
    "print( str(a)+ str(b))        \n"
   ]
  },
  {
   "cell_type": "code",
   "execution_count": 46,
   "id": "4d1de1a9",
   "metadata": {},
   "outputs": [
    {
     "name": "stdout",
     "output_type": "stream",
     "text": [
      "[(1, 1), (2, 1), (3, 1), (1, 2), (2, 2), (3, 2), (1, 3), (2, 3), (3, 3)]\n"
     ]
    }
   ],
   "source": [
    "list_1=[1,2,3]\n",
    "c=[(b,a) for a in list_1 for b in list_1]\n",
    "print(str(c))"
   ]
  },
  {
   "cell_type": "code",
   "execution_count": null,
   "id": "fa8063f9",
   "metadata": {},
   "outputs": [],
   "source": []
  }
 ],
 "metadata": {
  "kernelspec": {
   "display_name": "Python 3 (ipykernel)",
   "language": "python",
   "name": "python3"
  },
  "language_info": {
   "codemirror_mode": {
    "name": "ipython",
    "version": 3
   },
   "file_extension": ".py",
   "mimetype": "text/x-python",
   "name": "python",
   "nbconvert_exporter": "python",
   "pygments_lexer": "ipython3",
   "version": "3.8.8"
  }
 },
 "nbformat": 4,
 "nbformat_minor": 5
}
